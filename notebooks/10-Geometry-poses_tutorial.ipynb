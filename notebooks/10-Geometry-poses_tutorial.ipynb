{
 "cells": [
  {
   "cell_type": "markdown",
   "metadata": {},
   "source": [
    "# Pose representation and operations tutorial\n"
   ]
  },
  {
   "cell_type": "markdown",
   "metadata": {},
   "source": [
    "## Packages\n",
    "\n",
    "We will use the `geometry` library to do operations with coordinate frames,\n",
    "and the Numpy library. We will abbreviate them as `g` and `np`, respectively.\n"
   ]
  },
  {
   "cell_type": "code",
   "execution_count": 1,
   "metadata": {
    "pycharm": {
     "is_executing": true
    }
   },
   "outputs": [
    {
     "name": "stderr",
     "output_type": "stream",
     "text": [
      "DEBUG:commons:version: 6.2.4 *\n",
      "DEBUG:geometry:PyGeometry-z6 version 2.1.4 path /opt/homebrew/lib/python3.11/site-packages\n"
     ]
    },
    {
     "ename": "ModuleNotFoundError",
     "evalue": "No module named 'past'",
     "output_type": "error",
     "traceback": [
      "\u001b[0;31m---------------------------------------------------------------------------\u001b[0m",
      "\u001b[0;31mModuleNotFoundError\u001b[0m                       Traceback (most recent call last)",
      "Cell \u001b[0;32mIn[1], line 4\u001b[0m\n\u001b[1;32m      1\u001b[0m \u001b[38;5;28;01mfrom\u001b[39;00m \u001b[38;5;21;01mmath\u001b[39;00m \u001b[38;5;28;01mimport\u001b[39;00m cos, sin, pi\n\u001b[1;32m      2\u001b[0m \u001b[38;5;28;01mfrom\u001b[39;00m \u001b[38;5;21;01mtyping\u001b[39;00m \u001b[38;5;28;01mimport\u001b[39;00m Tuple\n\u001b[0;32m----> 4\u001b[0m \u001b[38;5;28;01mimport\u001b[39;00m \u001b[38;5;21;01mgeometry\u001b[39;00m \u001b[38;5;28;01mas\u001b[39;00m \u001b[38;5;21;01mg\u001b[39;00m\n\u001b[1;32m      5\u001b[0m \u001b[38;5;28;01mimport\u001b[39;00m \u001b[38;5;21;01mnumpy\u001b[39;00m \u001b[38;5;28;01mas\u001b[39;00m \u001b[38;5;21;01mnp\u001b[39;00m\n",
      "File \u001b[0;32m/opt/homebrew/lib/python3.11/site-packages/geometry/__init__.py:64\u001b[0m\n\u001b[1;32m     61\u001b[0m     scipy_found \u001b[38;5;241m=\u001b[39m \u001b[38;5;28;01mFalse\u001b[39;00m\n\u001b[1;32m     62\u001b[0m     development \u001b[38;5;241m=\u001b[39m \u001b[38;5;28;01mFalse\u001b[39;00m\n\u001b[0;32m---> 64\u001b[0m \u001b[38;5;28;01mfrom\u001b[39;00m \u001b[38;5;21;01m.\u001b[39;00m\u001b[38;5;21;01mbasic_utils\u001b[39;00m \u001b[38;5;28;01mimport\u001b[39;00m \u001b[38;5;241m*\u001b[39m\n\u001b[1;32m     65\u001b[0m \u001b[38;5;28;01mfrom\u001b[39;00m \u001b[38;5;21;01m.\u001b[39;00m\u001b[38;5;21;01mconstants\u001b[39;00m \u001b[38;5;28;01mimport\u001b[39;00m \u001b[38;5;241m*\u001b[39m\n\u001b[1;32m     66\u001b[0m \u001b[38;5;28;01mfrom\u001b[39;00m \u001b[38;5;21;01m.\u001b[39;00m\u001b[38;5;21;01mdistances\u001b[39;00m \u001b[38;5;28;01mimport\u001b[39;00m \u001b[38;5;241m*\u001b[39m\n",
      "File \u001b[0;32m/opt/homebrew/lib/python3.11/site-packages/geometry/basic_utils.py:6\u001b[0m\n\u001b[1;32m      2\u001b[0m \u001b[38;5;28;01mimport\u001b[39;00m \u001b[38;5;21;01mwarnings\u001b[39;00m\n\u001b[1;32m      4\u001b[0m \u001b[38;5;28;01mimport\u001b[39;00m \u001b[38;5;21;01mnumpy\u001b[39;00m \u001b[38;5;28;01mas\u001b[39;00m \u001b[38;5;21;01mnp\u001b[39;00m\n\u001b[0;32m----> 6\u001b[0m \u001b[38;5;28;01mfrom\u001b[39;00m \u001b[38;5;21;01mcontracts\u001b[39;00m \u001b[38;5;28;01mimport\u001b[39;00m contract, new_contract\n\u001b[1;32m      7\u001b[0m \u001b[38;5;28;01mfrom\u001b[39;00m \u001b[38;5;21;01m.\u001b[39;00m\u001b[38;5;21;01mconstants\u001b[39;00m \u001b[38;5;28;01mimport\u001b[39;00m GeometryConstants\n\u001b[1;32m      8\u001b[0m \u001b[38;5;28;01mfrom\u001b[39;00m \u001b[38;5;21;01m.\u001b[39;00m\u001b[38;5;21;01mtypes\u001b[39;00m \u001b[38;5;28;01mimport\u001b[39;00m V1D, V1DN\n",
      "File \u001b[0;32m/opt/homebrew/lib/python3.11/site-packages/contracts/__init__.py:54\u001b[0m\n\u001b[1;32m     51\u001b[0m ContractsMeta\u001b[38;5;241m.\u001b[39m\u001b[38;5;18m__module__\u001b[39m \u001b[38;5;241m=\u001b[39m \u001b[38;5;124m\"\u001b[39m\u001b[38;5;124mcontracts\u001b[39m\u001b[38;5;124m\"\u001b[39m\n\u001b[1;32m     53\u001b[0m \u001b[38;5;66;03m# And after everything else is loaded, load the  utils\u001b[39;00m\n\u001b[0;32m---> 54\u001b[0m \u001b[38;5;28;01mfrom\u001b[39;00m \u001b[38;5;21;01m.\u001b[39;00m\u001b[38;5;21;01museful_contracts\u001b[39;00m \u001b[38;5;28;01mimport\u001b[39;00m \u001b[38;5;241m*\u001b[39m\n\u001b[1;32m     56\u001b[0m \u001b[38;5;66;03m# After everything is loaded, load aliases\u001b[39;00m\n\u001b[1;32m     57\u001b[0m \u001b[38;5;66;03m# from .library import miscellaneous_aliases  # @UnusedImport\u001b[39;00m\n",
      "File \u001b[0;32m/opt/homebrew/lib/python3.11/site-packages/contracts/useful_contracts/__init__.py:8\u001b[0m\n\u001b[1;32m      6\u001b[0m     \u001b[38;5;28;01mpass\u001b[39;00m\n\u001b[1;32m      7\u001b[0m \u001b[38;5;28;01melse\u001b[39;00m:\n\u001b[0;32m----> 8\u001b[0m     \u001b[38;5;28;01mfrom\u001b[39;00m \u001b[38;5;21;01m.\u001b[39;00m\u001b[38;5;21;01mnumpy_specific\u001b[39;00m \u001b[38;5;28;01mimport\u001b[39;00m \u001b[38;5;241m*\u001b[39m\n\u001b[1;32m     10\u001b[0m \u001b[38;5;28;01mfrom\u001b[39;00m \u001b[38;5;21;01m.\u001b[39;00m\u001b[38;5;21;01mnumbers\u001b[39;00m \u001b[38;5;28;01mimport\u001b[39;00m \u001b[38;5;241m*\u001b[39m\n\u001b[1;32m     13\u001b[0m new_contract(\u001b[38;5;124m\"\u001b[39m\u001b[38;5;124mbytes\u001b[39m\u001b[38;5;124m\"\u001b[39m, \u001b[38;5;28mbytes\u001b[39m)\n",
      "File \u001b[0;32m/opt/homebrew/lib/python3.11/site-packages/contracts/useful_contracts/numpy_specific.py:10\u001b[0m\n\u001b[1;32m      3\u001b[0m \u001b[38;5;28;01mfrom\u001b[39;00m \u001b[38;5;21;01mcontracts\u001b[39;00m\u001b[38;5;21;01m.\u001b[39;00m\u001b[38;5;21;01minterface\u001b[39;00m \u001b[38;5;28;01mimport\u001b[39;00m describe_value, describe_type\n\u001b[1;32m      5\u001b[0m __all__ \u001b[38;5;241m=\u001b[39m [\n\u001b[1;32m      6\u001b[0m     \u001b[38;5;124m\"\u001b[39m\u001b[38;5;124mfinite\u001b[39m\u001b[38;5;124m\"\u001b[39m,\n\u001b[1;32m      7\u001b[0m ]\n\u001b[0;32m---> 10\u001b[0m \u001b[38;5;129;43m@new_contract\u001b[39;49m\n\u001b[1;32m     11\u001b[0m \u001b[38;5;28;43;01mdef\u001b[39;49;00m\u001b[43m \u001b[49m\u001b[38;5;21;43mfinite\u001b[39;49m\u001b[43m(\u001b[49m\u001b[43mx\u001b[49m\u001b[43m)\u001b[49m\u001b[43m:\u001b[49m\n\u001b[1;32m     12\u001b[0m \u001b[43m    \u001b[49m\u001b[38;5;28;43;01mreturn\u001b[39;49;00m\u001b[43m \u001b[49m\u001b[43mnp\u001b[49m\u001b[38;5;241;43m.\u001b[39;49m\u001b[43misfinite\u001b[49m\u001b[43m(\u001b[49m\u001b[43mx\u001b[49m\u001b[43m)\u001b[49m\u001b[38;5;241;43m.\u001b[39;49m\u001b[43mall\u001b[49m\u001b[43m(\u001b[49m\u001b[43m)\u001b[49m\n\u001b[1;32m     15\u001b[0m new_contract(\u001b[38;5;124m\"\u001b[39m\u001b[38;5;124mnp_scalar_uint\u001b[39m\u001b[38;5;124m\"\u001b[39m, \u001b[38;5;124m\"\u001b[39m\u001b[38;5;124mnp_uint8|np_uint16|np_uint32|np_uint64\u001b[39m\u001b[38;5;124m\"\u001b[39m)\n",
      "File \u001b[0;32m/opt/homebrew/lib/python3.11/site-packages/contracts/__init__.py:38\u001b[0m, in \u001b[0;36mnew_contract\u001b[0;34m(*args)\u001b[0m\n\u001b[1;32m     37\u001b[0m \u001b[38;5;28;01mdef\u001b[39;00m \u001b[38;5;21mnew_contract\u001b[39m(\u001b[38;5;241m*\u001b[39margs):\n\u001b[0;32m---> 38\u001b[0m     \u001b[38;5;28;01mreturn\u001b[39;00m \u001b[43mnew_contract_main\u001b[49m\u001b[43m(\u001b[49m\u001b[38;5;241;43m*\u001b[39;49m\u001b[43margs\u001b[49m\u001b[43m)\u001b[49m\n",
      "File \u001b[0;32m/opt/homebrew/lib/python3.11/site-packages/contracts/main.py:568\u001b[0m, in \u001b[0;36mnew_contract\u001b[0;34m(*args)\u001b[0m\n\u001b[1;32m    566\u001b[0m         \u001b[38;5;28;01mreturn\u001b[39;00m function\n\u001b[1;32m    567\u001b[0m     identifier \u001b[38;5;241m=\u001b[39m function\u001b[38;5;241m.\u001b[39m\u001b[38;5;18m__name__\u001b[39m\n\u001b[0;32m--> 568\u001b[0m     \u001b[43mnew_contract_impl\u001b[49m\u001b[43m(\u001b[49m\u001b[43midentifier\u001b[49m\u001b[43m,\u001b[49m\u001b[43m \u001b[49m\u001b[43mfunction\u001b[49m\u001b[43m)\u001b[49m\n\u001b[1;32m    569\u001b[0m     \u001b[38;5;28;01mreturn\u001b[39;00m function\n\u001b[1;32m    570\u001b[0m \u001b[38;5;28;01melse\u001b[39;00m:\n",
      "File \u001b[0;32m/opt/homebrew/lib/python3.11/site-packages/contracts/main.py:577\u001b[0m, in \u001b[0;36mnew_contract_impl\u001b[0;34m(identifier, condition)\u001b[0m\n\u001b[1;32m    576\u001b[0m \u001b[38;5;28;01mdef\u001b[39;00m \u001b[38;5;21mnew_contract_impl\u001b[39m(identifier, condition):\n\u001b[0;32m--> 577\u001b[0m     \u001b[38;5;28;01mfrom\u001b[39;00m \u001b[38;5;21;01m.\u001b[39;00m\u001b[38;5;21;01msyntax\u001b[39;00m \u001b[38;5;28;01mimport\u001b[39;00m ParseException\n\u001b[1;32m    578\u001b[0m     \u001b[38;5;28;01mfrom\u001b[39;00m \u001b[38;5;21;01m.\u001b[39;00m\u001b[38;5;21;01mlibrary\u001b[39;00m\u001b[38;5;21;01m.\u001b[39;00m\u001b[38;5;21;01mextensions\u001b[39;00m \u001b[38;5;28;01mimport\u001b[39;00m CheckCallableWithSelf\n\u001b[1;32m    579\u001b[0m     \u001b[38;5;28;01mfrom\u001b[39;00m \u001b[38;5;21;01m.\u001b[39;00m\u001b[38;5;21;01mlibrary\u001b[39;00m \u001b[38;5;28;01mimport\u001b[39;00m (\n\u001b[1;32m    580\u001b[0m         CheckCallable,\n\u001b[1;32m    581\u001b[0m         Extension,\n\u001b[1;32m    582\u001b[0m         SeparateContext,\n\u001b[1;32m    583\u001b[0m         identifier_expression,\n\u001b[1;32m    584\u001b[0m     )\n",
      "File \u001b[0;32m/opt/homebrew/lib/python3.11/site-packages/contracts/syntax.py:135\u001b[0m\n\u001b[1;32m    132\u001b[0m simple_contract\u001b[38;5;241m.\u001b[39msetName(\u001b[38;5;124m\"\u001b[39m\u001b[38;5;124msimple_contract\u001b[39m\u001b[38;5;124m\"\u001b[39m)\n\u001b[1;32m    134\u001b[0m \u001b[38;5;66;03m# Import all expressions -- they will call add_contract()\u001b[39;00m\n\u001b[0;32m--> 135\u001b[0m \u001b[38;5;28;01mfrom\u001b[39;00m \u001b[38;5;21;01m.\u001b[39;00m\u001b[38;5;21;01mlibrary\u001b[39;00m \u001b[38;5;28;01mimport\u001b[39;00m (\n\u001b[1;32m    136\u001b[0m     EqualTo,\n\u001b[1;32m    137\u001b[0m     Unary,\n\u001b[1;32m    138\u001b[0m     Binary,\n\u001b[1;32m    139\u001b[0m     composite_contract,\n\u001b[1;32m    140\u001b[0m     identifier_contract,\n\u001b[1;32m    141\u001b[0m     misc_variables_contract,\n\u001b[1;32m    142\u001b[0m     scoped_variables_ref,\n\u001b[1;32m    143\u001b[0m     int_variables_contract,\n\u001b[1;32m    144\u001b[0m     int_variables_ref,\n\u001b[1;32m    145\u001b[0m     misc_variables_ref,\n\u001b[1;32m    146\u001b[0m     SimpleRValue,\n\u001b[1;32m    147\u001b[0m )\n\u001b[1;32m    150\u001b[0m number \u001b[38;5;241m=\u001b[39m pi \u001b[38;5;241m|\u001b[39m floatnumber \u001b[38;5;241m|\u001b[39m integer\n\u001b[1;32m    151\u001b[0m operand \u001b[38;5;241m=\u001b[39m number \u001b[38;5;241m|\u001b[39m int_variables_ref \u001b[38;5;241m|\u001b[39m misc_variables_ref \u001b[38;5;241m|\u001b[39m scoped_variables_ref\n",
      "File \u001b[0;32m/opt/homebrew/lib/python3.11/site-packages/contracts/library/__init__.py:7\u001b[0m\n\u001b[1;32m      5\u001b[0m \u001b[38;5;28;01mfrom\u001b[39;00m \u001b[38;5;21;01m.\u001b[39;00m\u001b[38;5;21;01mstrings\u001b[39;00m \u001b[38;5;28;01mimport\u001b[39;00m \u001b[38;5;241m*\u001b[39m\n\u001b[1;32m      6\u001b[0m \u001b[38;5;28;01mfrom\u001b[39;00m \u001b[38;5;21;01m.\u001b[39;00m\u001b[38;5;21;01mlists\u001b[39;00m \u001b[38;5;28;01mimport\u001b[39;00m List\n\u001b[0;32m----> 7\u001b[0m \u001b[38;5;28;01mfrom\u001b[39;00m \u001b[38;5;21;01m.\u001b[39;00m\u001b[38;5;21;01mseq\u001b[39;00m \u001b[38;5;28;01mimport\u001b[39;00m Seq\n\u001b[1;32m      8\u001b[0m \u001b[38;5;28;01mfrom\u001b[39;00m \u001b[38;5;21;01m.\u001b[39;00m\u001b[38;5;21;01mtuple\u001b[39;00m \u001b[38;5;28;01mimport\u001b[39;00m Tuple\n\u001b[1;32m      9\u001b[0m \u001b[38;5;28;01mfrom\u001b[39;00m \u001b[38;5;21;01m.\u001b[39;00m\u001b[38;5;21;01mcollection\u001b[39;00m \u001b[38;5;28;01mimport\u001b[39;00m Collection\n",
      "File \u001b[0;32m/opt/homebrew/lib/python3.11/site-packages/contracts/library/seq.py:4\u001b[0m\n\u001b[1;32m      2\u001b[0m \u001b[38;5;28;01mfrom\u001b[39;00m \u001b[38;5;21;01m.\u001b[39;00m\u001b[38;5;21;01m.\u001b[39;00m\u001b[38;5;21;01msyntax\u001b[39;00m \u001b[38;5;28;01mimport\u001b[39;00m add_contract, W, contract_expression, O, S, add_keyword, Keyword\n\u001b[1;32m      3\u001b[0m \u001b[38;5;28;01mimport\u001b[39;00m \u001b[38;5;21;01mcollections\u001b[39;00m\n\u001b[0;32m----> 4\u001b[0m \u001b[38;5;28;01mfrom\u001b[39;00m \u001b[38;5;21;01mpast\u001b[39;00m\u001b[38;5;21;01m.\u001b[39;00m\u001b[38;5;21;01mbuiltins\u001b[39;00m \u001b[38;5;28;01mimport\u001b[39;00m xrange\n\u001b[1;32m      6\u001b[0m \u001b[38;5;28;01mfrom\u001b[39;00m \u001b[38;5;21;01m.\u001b[39;00m\u001b[38;5;21;01m.\u001b[39;00m\u001b[38;5;21;01mutils\u001b[39;00m \u001b[38;5;28;01mimport\u001b[39;00m PYTHON_310_OR_LATER\n\u001b[1;32m      8\u001b[0m \u001b[38;5;28;01mtry\u001b[39;00m:\n",
      "\u001b[0;31mModuleNotFoundError\u001b[0m: No module named 'past'"
     ]
    }
   ],
   "source": [
    "from math import cos, sin, pi\n",
    "from typing import Tuple\n",
    "\n",
    "import geometry as g\n",
    "import numpy as np"
   ]
  },
  {
   "cell_type": "markdown",
   "metadata": {},
   "source": [
    "# Angles\n",
    "\n",
    "In code, angles are *always* represented in radians.\n",
    "\n",
    "The only place where degrees might be acceptable is in configuration files\n",
    "that need to be edited by users.\n",
    "\n",
    "Use the functions `np.deg2rad` and `np.rad2deg` to convert back and forth."
   ]
  },
  {
   "cell_type": "code",
   "execution_count": 2,
   "metadata": {
    "pycharm": {
     "is_executing": true
    }
   },
   "outputs": [
    {
     "ename": "NameError",
     "evalue": "name 'np' is not defined",
     "output_type": "error",
     "traceback": [
      "\u001b[0;31m---------------------------------------------------------------------------\u001b[0m",
      "\u001b[0;31mNameError\u001b[0m                                 Traceback (most recent call last)",
      "Cell \u001b[0;32mIn[2], line 3\u001b[0m\n\u001b[1;32m      1\u001b[0m \u001b[38;5;28;01mfrom\u001b[39;00m \u001b[38;5;21;01mmatplotlib\u001b[39;00m \u001b[38;5;28;01mimport\u001b[39;00m pyplot \u001b[38;5;28;01mas\u001b[39;00m plt\n\u001b[0;32m----> 3\u001b[0m \u001b[38;5;28;01massert\u001b[39;00m \u001b[43mnp\u001b[49m\u001b[38;5;241m.\u001b[39mallclose(np\u001b[38;5;241m.\u001b[39mdeg2rad(\u001b[38;5;241m60\u001b[39m), np\u001b[38;5;241m.\u001b[39mpi\u001b[38;5;241m/\u001b[39m\u001b[38;5;241m3\u001b[39m)\n\u001b[1;32m      4\u001b[0m \u001b[38;5;28;01massert\u001b[39;00m np\u001b[38;5;241m.\u001b[39mallclose(np\u001b[38;5;241m.\u001b[39mrad2deg(np\u001b[38;5;241m.\u001b[39mpi\u001b[38;5;241m/\u001b[39m\u001b[38;5;241m3\u001b[39m), \u001b[38;5;241m60\u001b[39m)\n",
      "\u001b[0;31mNameError\u001b[0m: name 'np' is not defined"
     ]
    }
   ],
   "source": [
    "from matplotlib import pyplot as plt\n",
    "\n",
    "assert np.allclose(np.deg2rad(60), np.pi/3)\n",
    "assert np.allclose(np.rad2deg(np.pi/3), 60)"
   ]
  },
  {
   "cell_type": "markdown",
   "metadata": {
    "collapsed": true,
    "jupyter": {
     "outputs_hidden": true
    }
   },
   "source": [
    "The function `np.allclose` allows to compare two numbers allowing some tolerance to \n",
    "tolerate numerical errors."
   ]
  },
  {
   "cell_type": "markdown",
   "metadata": {},
   "source": [
    "## Pose representations\n",
    "\n",
    "To create a pose from translation, angle (in radians), use the function `SE2_from_translation_angle(translation, angle)`:\n"
   ]
  },
  {
   "cell_type": "code",
   "execution_count": 3,
   "metadata": {
    "pycharm": {
     "is_executing": true
    }
   },
   "outputs": [
    {
     "ename": "NameError",
     "evalue": "name 'np' is not defined",
     "output_type": "error",
     "traceback": [
      "\u001b[0;31m---------------------------------------------------------------------------\u001b[0m",
      "\u001b[0;31mNameError\u001b[0m                                 Traceback (most recent call last)",
      "Cell \u001b[0;32mIn[3], line 2\u001b[0m\n\u001b[1;32m      1\u001b[0m translation \u001b[38;5;241m=\u001b[39m [\u001b[38;5;241m0\u001b[39m, \u001b[38;5;241m1\u001b[39m]\n\u001b[0;32m----> 2\u001b[0m angle \u001b[38;5;241m=\u001b[39m \u001b[43mnp\u001b[49m\u001b[38;5;241m.\u001b[39mpi\u001b[38;5;241m/\u001b[39m\u001b[38;5;241m3\u001b[39m\n\u001b[1;32m      3\u001b[0m q \u001b[38;5;241m=\u001b[39m g\u001b[38;5;241m.\u001b[39mSE2_from_translation_angle(translation, angle)\n",
      "\u001b[0;31mNameError\u001b[0m: name 'np' is not defined"
     ]
    }
   ],
   "source": [
    "translation = [0, 1]\n",
    "angle = np.pi/3\n",
    "q = g.SE2_from_translation_angle(translation, angle)"
   ]
  },
  {
   "cell_type": "markdown",
   "metadata": {},
   "source": [
    "This returns a 3 by 3 matrix:"
   ]
  },
  {
   "cell_type": "code",
   "execution_count": 4,
   "metadata": {
    "pycharm": {
     "is_executing": true
    }
   },
   "outputs": [
    {
     "ename": "NameError",
     "evalue": "name 'q' is not defined",
     "output_type": "error",
     "traceback": [
      "\u001b[0;31m---------------------------------------------------------------------------\u001b[0m",
      "\u001b[0;31mNameError\u001b[0m                                 Traceback (most recent call last)",
      "Cell \u001b[0;32mIn[4], line 1\u001b[0m\n\u001b[0;32m----> 1\u001b[0m \u001b[38;5;28mprint\u001b[39m(\u001b[43mq\u001b[49m)\n",
      "\u001b[0;31mNameError\u001b[0m: name 'q' is not defined"
     ]
    }
   ],
   "source": [
    "print(q)"
   ]
  },
  {
   "cell_type": "markdown",
   "metadata": {},
   "source": [
    "Use the function `g.SE2.friendly()` to print a nice representation of the matrix:\n"
   ]
  },
  {
   "cell_type": "code",
   "execution_count": 5,
   "metadata": {
    "pycharm": {
     "is_executing": true
    }
   },
   "outputs": [
    {
     "ename": "NameError",
     "evalue": "name 'g' is not defined",
     "output_type": "error",
     "traceback": [
      "\u001b[0;31m---------------------------------------------------------------------------\u001b[0m",
      "\u001b[0;31mNameError\u001b[0m                                 Traceback (most recent call last)",
      "Cell \u001b[0;32mIn[5], line 1\u001b[0m\n\u001b[0;32m----> 1\u001b[0m \u001b[38;5;28mprint\u001b[39m(\u001b[43mg\u001b[49m\u001b[38;5;241m.\u001b[39mSE2\u001b[38;5;241m.\u001b[39mfriendly(q))\n",
      "\u001b[0;31mNameError\u001b[0m: name 'g' is not defined"
     ]
    }
   ],
   "source": [
    "print(g.SE2.friendly(q))"
   ]
  },
  {
   "cell_type": "markdown",
   "metadata": {},
   "source": [
    "To convert back to position, angle use the function `translation_angle_from_SE2`\n"
   ]
  },
  {
   "cell_type": "code",
   "execution_count": 6,
   "metadata": {
    "pycharm": {
     "is_executing": true
    }
   },
   "outputs": [
    {
     "ename": "NameError",
     "evalue": "name 'g' is not defined",
     "output_type": "error",
     "traceback": [
      "\u001b[0;31m---------------------------------------------------------------------------\u001b[0m",
      "\u001b[0;31mNameError\u001b[0m                                 Traceback (most recent call last)",
      "Cell \u001b[0;32mIn[6], line 1\u001b[0m\n\u001b[0;32m----> 1\u001b[0m position, direction \u001b[38;5;241m=\u001b[39m \u001b[43mg\u001b[49m\u001b[38;5;241m.\u001b[39mtranslation_angle_from_SE2(q)\n\u001b[1;32m      2\u001b[0m \u001b[38;5;28mprint\u001b[39m(position)\n\u001b[1;32m      3\u001b[0m \u001b[38;5;28mprint\u001b[39m(direction)\n",
      "\u001b[0;31mNameError\u001b[0m: name 'g' is not defined"
     ]
    }
   ],
   "source": [
    "position, direction = g.translation_angle_from_SE2(q)\n",
    "print(position)\n",
    "print(direction)"
   ]
  },
  {
   "cell_type": "markdown",
   "metadata": {},
   "source": [
    "## Operations on poses\n",
    "\n",
    "The object `geometry.SE2` is a representation of the group SE(2).\n",
    "\n",
    "It provides the operations `multiply`, `identity`, and `inverse`:\n"
   ]
  },
  {
   "cell_type": "code",
   "execution_count": 7,
   "metadata": {
    "pycharm": {
     "is_executing": true
    }
   },
   "outputs": [
    {
     "ename": "NameError",
     "evalue": "name 'g' is not defined",
     "output_type": "error",
     "traceback": [
      "\u001b[0;31m---------------------------------------------------------------------------\u001b[0m",
      "\u001b[0;31mNameError\u001b[0m                                 Traceback (most recent call last)",
      "Cell \u001b[0;32mIn[7], line 1\u001b[0m\n\u001b[0;32m----> 1\u001b[0m q1 \u001b[38;5;241m=\u001b[39m \u001b[43mg\u001b[49m\u001b[38;5;241m.\u001b[39mSE2_from_translation_angle([\u001b[38;5;241m1\u001b[39m, \u001b[38;5;241m2\u001b[39m], np\u001b[38;5;241m.\u001b[39mdeg2rad(\u001b[38;5;241m15\u001b[39m))\n\u001b[1;32m      2\u001b[0m q2 \u001b[38;5;241m=\u001b[39m g\u001b[38;5;241m.\u001b[39mSE2_from_translation_angle([\u001b[38;5;241m2\u001b[39m, \u001b[38;5;241m3\u001b[39m], np\u001b[38;5;241m.\u001b[39mdeg2rad(\u001b[38;5;241m30\u001b[39m))\n\u001b[1;32m      4\u001b[0m \u001b[38;5;66;03m# let's compute the relative pose of q2 wrt q1\u001b[39;00m\n",
      "\u001b[0;31mNameError\u001b[0m: name 'g' is not defined"
     ]
    }
   ],
   "source": [
    "q1 = g.SE2_from_translation_angle([1, 2], np.deg2rad(15))\n",
    "q2 = g.SE2_from_translation_angle([2, 3], np.deg2rad(30))\n",
    "\n",
    "# let's compute the relative pose of q2 wrt q1\n",
    "q2_from_q1 = g.SE2.multiply(g.SE2.inverse(q1), q2)\n",
    "\n",
    "# now let's re-find q2 by adding the relative pose to q1\n",
    "q2b = g.SE2.multiply(q1, q2_from_q1)\n",
    "\n",
    "# this must be equal to q2\n",
    "assert np.allclose(q2, q2b)"
   ]
  },
  {
   "cell_type": "markdown",
   "metadata": {},
   "source": [
    "Note that for SE(2) the operations `inverse` and `multiply` correspond to the numpy operations of\n",
    "matrix inversion `np.linalg.inv` and matrix multiplication `np.dot()` (do not confuse with `np.multiply()` which multiplies element-wise) or using the operator `@`."
   ]
  },
  {
   "cell_type": "markdown",
   "metadata": {
    "collapsed": true,
    "jupyter": {
     "outputs_hidden": true
    }
   },
   "source": [
    "## Interpolation of poses\n",
    "\n",
    "Suppose you want to interpolate between two poses. This is the right way to do it.\n",
    "\n",
    "First, compute the relative pose:\n"
   ]
  },
  {
   "cell_type": "code",
   "execution_count": 8,
   "metadata": {
    "pycharm": {
     "is_executing": true
    }
   },
   "outputs": [
    {
     "ename": "NameError",
     "evalue": "name 'g' is not defined",
     "output_type": "error",
     "traceback": [
      "\u001b[0;31m---------------------------------------------------------------------------\u001b[0m",
      "\u001b[0;31mNameError\u001b[0m                                 Traceback (most recent call last)",
      "Cell \u001b[0;32mIn[8], line 1\u001b[0m\n\u001b[0;32m----> 1\u001b[0m q2_from_q1 \u001b[38;5;241m=\u001b[39m \u001b[43mg\u001b[49m\u001b[38;5;241m.\u001b[39mSE2\u001b[38;5;241m.\u001b[39mmultiply( g\u001b[38;5;241m.\u001b[39mSE2\u001b[38;5;241m.\u001b[39minverse(q1), q2)\n\u001b[1;32m      2\u001b[0m \u001b[38;5;28mprint\u001b[39m(q2_from_q1)\n",
      "\u001b[0;31mNameError\u001b[0m: name 'g' is not defined"
     ]
    }
   ],
   "source": [
    "q2_from_q1 = g.SE2.multiply( g.SE2.inverse(q1), q2)\n",
    "print(q2_from_q1)"
   ]
  },
  {
   "cell_type": "markdown",
   "metadata": {},
   "source": [
    "Now compute the equivalent \"velocity\". \n",
    "\n",
    "The function `algebra_from_group` computes\n",
    "the element of the algebra of SE(2); that is, *skew symmetric matrices* that \n",
    "represent velocities:"
   ]
  },
  {
   "cell_type": "code",
   "execution_count": 9,
   "metadata": {
    "pycharm": {
     "is_executing": true
    }
   },
   "outputs": [
    {
     "ename": "NameError",
     "evalue": "name 'g' is not defined",
     "output_type": "error",
     "traceback": [
      "\u001b[0;31m---------------------------------------------------------------------------\u001b[0m",
      "\u001b[0;31mNameError\u001b[0m                                 Traceback (most recent call last)",
      "Cell \u001b[0;32mIn[9], line 1\u001b[0m\n\u001b[0;32m----> 1\u001b[0m vel \u001b[38;5;241m=\u001b[39m \u001b[43mg\u001b[49m\u001b[38;5;241m.\u001b[39mSE2\u001b[38;5;241m.\u001b[39malgebra_from_group(q2_from_q1)\n",
      "\u001b[0;31mNameError\u001b[0m: name 'g' is not defined"
     ]
    }
   ],
   "source": [
    "vel = g.SE2.algebra_from_group(q2_from_q1)"
   ]
  },
  {
   "cell_type": "markdown",
   "metadata": {},
   "source": [
    "The set of velocities on $SE(2)$ is called the *lie algebra* $se(2)$.\n",
    "It is represented by the object `se2`:"
   ]
  },
  {
   "cell_type": "code",
   "execution_count": 10,
   "metadata": {
    "pycharm": {
     "is_executing": true
    }
   },
   "outputs": [
    {
     "ename": "NameError",
     "evalue": "name 'g' is not defined",
     "output_type": "error",
     "traceback": [
      "\u001b[0;31m---------------------------------------------------------------------------\u001b[0m",
      "\u001b[0;31mNameError\u001b[0m                                 Traceback (most recent call last)",
      "Cell \u001b[0;32mIn[10], line 1\u001b[0m\n\u001b[0;32m----> 1\u001b[0m \u001b[43mg\u001b[49m\u001b[38;5;241m.\u001b[39mse2\u001b[38;5;241m.\u001b[39mbelongs(vel)\n\u001b[1;32m      2\u001b[0m \u001b[38;5;28mprint\u001b[39m(g\u001b[38;5;241m.\u001b[39mse2\u001b[38;5;241m.\u001b[39mfriendly(vel))\n",
      "\u001b[0;31mNameError\u001b[0m: name 'g' is not defined"
     ]
    }
   ],
   "source": [
    "g.se2.belongs(vel)\n",
    "print(g.se2.friendly(vel))"
   ]
  },
  {
   "cell_type": "markdown",
   "metadata": {},
   "source": [
    "The velocity can be converted to angular, linear components:"
   ]
  },
  {
   "cell_type": "code",
   "execution_count": 11,
   "metadata": {
    "pycharm": {
     "is_executing": true
    }
   },
   "outputs": [
    {
     "ename": "NameError",
     "evalue": "name 'g' is not defined",
     "output_type": "error",
     "traceback": [
      "\u001b[0;31m---------------------------------------------------------------------------\u001b[0m",
      "\u001b[0;31mNameError\u001b[0m                                 Traceback (most recent call last)",
      "Cell \u001b[0;32mIn[11], line 1\u001b[0m\n\u001b[0;32m----> 1\u001b[0m linear, angular \u001b[38;5;241m=\u001b[39m \u001b[43mg\u001b[49m\u001b[38;5;241m.\u001b[39mlinear_angular_from_se2(vel)\n\u001b[1;32m      2\u001b[0m \u001b[38;5;28mprint\u001b[39m(\u001b[38;5;124m'\u001b[39m\u001b[38;5;124mlinear: \u001b[39m\u001b[38;5;132;01m{}\u001b[39;00m\u001b[38;5;124m'\u001b[39m\u001b[38;5;241m.\u001b[39mformat(linear))\n\u001b[1;32m      3\u001b[0m \u001b[38;5;28mprint\u001b[39m(\u001b[38;5;124m'\u001b[39m\u001b[38;5;124mangular: \u001b[39m\u001b[38;5;132;01m{}\u001b[39;00m\u001b[38;5;124m'\u001b[39m\u001b[38;5;241m.\u001b[39mformat(angular))\n",
      "\u001b[0;31mNameError\u001b[0m: name 'g' is not defined"
     ]
    }
   ],
   "source": [
    "linear, angular = g.linear_angular_from_se2(vel)\n",
    "print('linear: {}'.format(linear))\n",
    "print('angular: {}'.format(angular))"
   ]
  },
  {
   "cell_type": "markdown",
   "metadata": {},
   "source": [
    "Now, suppose that you want to interpolate smoothly according to a parameter `alpha`,\n",
    "such that `alpha = 0` gives `q1` and `alpha = 1` gives `q2`.\n",
    "\n",
    "You can do that by interpolating linearly in the velocity space:"
   ]
  },
  {
   "cell_type": "code",
   "execution_count": 12,
   "metadata": {
    "pycharm": {
     "is_executing": true
    }
   },
   "outputs": [
    {
     "ename": "NameError",
     "evalue": "name 'g' is not defined",
     "output_type": "error",
     "traceback": [
      "\u001b[0;31m---------------------------------------------------------------------------\u001b[0m",
      "\u001b[0;31mNameError\u001b[0m                                 Traceback (most recent call last)",
      "Cell \u001b[0;32mIn[12], line 2\u001b[0m\n\u001b[1;32m      1\u001b[0m alpha \u001b[38;5;241m=\u001b[39m \u001b[38;5;241m0.5\u001b[39m\n\u001b[0;32m----> 2\u001b[0m rel \u001b[38;5;241m=\u001b[39m \u001b[43mg\u001b[49m\u001b[38;5;241m.\u001b[39mSE2\u001b[38;5;241m.\u001b[39mgroup_from_algebra(vel \u001b[38;5;241m*\u001b[39m alpha)\n\u001b[1;32m      3\u001b[0m q_alpha \u001b[38;5;241m=\u001b[39m g\u001b[38;5;241m.\u001b[39mSE2\u001b[38;5;241m.\u001b[39mmultiply( q1, rel)\n\u001b[1;32m      4\u001b[0m \u001b[38;5;28mprint\u001b[39m(g\u001b[38;5;241m.\u001b[39mSE2\u001b[38;5;241m.\u001b[39mfriendly(q_alpha))\n",
      "\u001b[0;31mNameError\u001b[0m: name 'g' is not defined"
     ]
    }
   ],
   "source": [
    "alpha = 0.5\n",
    "rel = g.SE2.group_from_algebra(vel * alpha)\n",
    "q_alpha = g.SE2.multiply( q1, rel)\n",
    "print(g.SE2.friendly(q_alpha))"
   ]
  },
  {
   "cell_type": "code",
   "execution_count": 13,
   "metadata": {
    "pycharm": {
     "is_executing": true
    }
   },
   "outputs": [
    {
     "ename": "NameError",
     "evalue": "name 'g' is not defined",
     "output_type": "error",
     "traceback": [
      "\u001b[0;31m---------------------------------------------------------------------------\u001b[0m",
      "\u001b[0;31mNameError\u001b[0m                                 Traceback (most recent call last)",
      "Cell \u001b[0;32mIn[13], line 12\u001b[0m\n\u001b[1;32m      9\u001b[0m     \u001b[38;5;28;01mreturn\u001b[39;00m q\n\u001b[1;32m     11\u001b[0m \u001b[38;5;66;03m# sample two poses\u001b[39;00m\n\u001b[0;32m---> 12\u001b[0m q0 \u001b[38;5;241m=\u001b[39m \u001b[43mg\u001b[49m\u001b[38;5;241m.\u001b[39mSE2\u001b[38;5;241m.\u001b[39msample_uniform()\n\u001b[1;32m     13\u001b[0m q1 \u001b[38;5;241m=\u001b[39m g\u001b[38;5;241m.\u001b[39mSE2\u001b[38;5;241m.\u001b[39msample_uniform()\n\u001b[1;32m     15\u001b[0m \u001b[38;5;66;03m# make sure that for alpha=0,1 we get q0,q1\u001b[39;00m\n",
      "\u001b[0;31mNameError\u001b[0m: name 'g' is not defined"
     ]
    }
   ],
   "source": [
    "def relative_pose(q0, q1):\n",
    "    return g.SE2.multiply(g.SE2.inverse(q0), q1)\n",
    "\n",
    "def interpolate(q0, q1, alpha):\n",
    "    q1_from_q0 = relative_pose(q0, q1)\n",
    "    vel = g.SE2.algebra_from_group(q1_from_q0)\n",
    "    rel = g.SE2.group_from_algebra(vel * alpha)\n",
    "    q = g.SE2.multiply(q0, rel)\n",
    "    return q\n",
    "\n",
    "# sample two poses\n",
    "q0 = g.SE2.sample_uniform()\n",
    "q1 = g.SE2.sample_uniform()\n",
    "\n",
    "# make sure that for alpha=0,1 we get q0,q1\n",
    "assert np.allclose(q0, interpolate(q0, q1, 0))\n",
    "assert np.allclose(q1, interpolate(q0, q1, 1))\n",
    "\n"
   ]
  },
  {
   "cell_type": "markdown",
   "metadata": {},
   "source": [
    "Let's visualize the result"
   ]
  },
  {
   "cell_type": "code",
   "execution_count": 14,
   "metadata": {
    "pycharm": {
     "name": "#%%\n"
    }
   },
   "outputs": [
    {
     "ename": "NameError",
     "evalue": "name 'g' is not defined",
     "output_type": "error",
     "traceback": [
      "\u001b[0;31m---------------------------------------------------------------------------\u001b[0m",
      "\u001b[0;31mNameError\u001b[0m                                 Traceback (most recent call last)",
      "Cell \u001b[0;32mIn[14], line 1\u001b[0m\n\u001b[0;32m----> 1\u001b[0m \u001b[38;5;28;01mdef\u001b[39;00m \u001b[38;5;21marrow_from_SE2\u001b[39m(p: \u001b[43mg\u001b[49m\u001b[38;5;241m.\u001b[39mSE2value, l: \u001b[38;5;28mfloat\u001b[39m \u001b[38;5;241m=\u001b[39m \u001b[38;5;241m.1\u001b[39m) \u001b[38;5;241m-\u001b[39m\u001b[38;5;241m>\u001b[39m Tuple[Tuple[\u001b[38;5;28mfloat\u001b[39m, \u001b[38;5;28mfloat\u001b[39m], Tuple[\u001b[38;5;28mfloat\u001b[39m, \u001b[38;5;28mfloat\u001b[39m]]:\n\u001b[1;32m      2\u001b[0m     \u001b[38;5;66;03m# utility function for plotting arrows from SE2 elements\u001b[39;00m\n\u001b[1;32m      3\u001b[0m     xytheta \u001b[38;5;241m=\u001b[39m g\u001b[38;5;241m.\u001b[39mxytheta_from_SE2(p)\n\u001b[1;32m      4\u001b[0m     x, y, theta \u001b[38;5;241m=\u001b[39m xytheta\n",
      "\u001b[0;31mNameError\u001b[0m: name 'g' is not defined"
     ]
    }
   ],
   "source": [
    "def arrow_from_SE2(p: g.SE2value, l: float = .1) -> Tuple[Tuple[float, float], Tuple[float, float]]:\n",
    "    # utility function for plotting arrows from SE2 elements\n",
    "    xytheta = g.xytheta_from_SE2(p)\n",
    "    x, y, theta = xytheta\n",
    "    dx = cos(theta) * l\n",
    "    dy = sin(theta) * l\n",
    "    return (x, y), (dx, dy)"
   ]
  },
  {
   "cell_type": "code",
   "execution_count": 15,
   "metadata": {
    "pycharm": {
     "name": "#%%\n"
    }
   },
   "outputs": [
    {
     "ename": "NameError",
     "evalue": "name 'g' is not defined",
     "output_type": "error",
     "traceback": [
      "\u001b[0;31m---------------------------------------------------------------------------\u001b[0m",
      "\u001b[0;31mNameError\u001b[0m                                 Traceback (most recent call last)",
      "Cell \u001b[0;32mIn[15], line 1\u001b[0m\n\u001b[0;32m----> 1\u001b[0m q0 \u001b[38;5;241m=\u001b[39m \u001b[43mg\u001b[49m\u001b[38;5;241m.\u001b[39mSE2_from_xytheta([\u001b[38;5;241m1\u001b[39m, \u001b[38;5;241m0\u001b[39m, pi \u001b[38;5;241m/\u001b[39m \u001b[38;5;241m2\u001b[39m])\n\u001b[1;32m      2\u001b[0m q1 \u001b[38;5;241m=\u001b[39m g\u001b[38;5;241m.\u001b[39mSE2_from_xytheta([\u001b[38;5;241m-\u001b[39m\u001b[38;5;241m1\u001b[39m, \u001b[38;5;241m1\u001b[39m, \u001b[38;5;241m3\u001b[39m\u001b[38;5;241m*\u001b[39mpi \u001b[38;5;241m/\u001b[39m \u001b[38;5;241m2\u001b[39m \u001b[38;5;241m-\u001b[39m \u001b[38;5;241m.0006\u001b[39m])\n\u001b[1;32m      5\u001b[0m alphas \u001b[38;5;241m=\u001b[39m np\u001b[38;5;241m.\u001b[39mlinspace(\u001b[38;5;241m0\u001b[39m, \u001b[38;5;241m1\u001b[39m, \u001b[38;5;241m10\u001b[39m)\n",
      "\u001b[0;31mNameError\u001b[0m: name 'g' is not defined"
     ]
    }
   ],
   "source": [
    "q0 = g.SE2_from_xytheta([1, 0, pi / 2])\n",
    "q1 = g.SE2_from_xytheta([-1, 1, 3*pi / 2 - .0006])\n",
    "\n",
    "\n",
    "alphas = np.linspace(0, 1, 10)\n",
    "ax = plt.axes()\n",
    "ax.set_aspect('equal')\n",
    "for alpha in alphas:\n",
    "    q = interpolate(q0, q1, alpha)\n",
    "    xy, dxdy = arrow_from_SE2(q)\n",
    "    ax.arrow(*xy, *dxdy, head_width=0.03, head_length=0.03, fc='k', ec='k')\n",
    "plt.show()"
   ]
  },
  {
   "cell_type": "markdown",
   "metadata": {
    "collapsed": false,
    "jupyter": {
     "outputs_hidden": false
    }
   },
   "source": [
    "## Exercise 1\n",
    "Compare the interpolation above with one done component-wise (i.e. linearly interpolate x,y,theta)"
   ]
  },
  {
   "cell_type": "code",
   "execution_count": 16,
   "metadata": {
    "collapsed": false,
    "jupyter": {
     "outputs_hidden": false
    },
    "pycharm": {
     "name": "#%%\n"
    }
   },
   "outputs": [
    {
     "ename": "NameError",
     "evalue": "name 'g' is not defined",
     "output_type": "error",
     "traceback": [
      "\u001b[0;31m---------------------------------------------------------------------------\u001b[0m",
      "\u001b[0;31mNameError\u001b[0m                                 Traceback (most recent call last)",
      "Cell \u001b[0;32mIn[16], line 38\u001b[0m\n\u001b[1;32m     35\u001b[0m     \u001b[38;5;28;01mreturn\u001b[39;00m (x, y), (dx, dy)\n\u001b[1;32m     37\u001b[0m \u001b[38;5;66;03m# Sample two poses\u001b[39;00m\n\u001b[0;32m---> 38\u001b[0m q0 \u001b[38;5;241m=\u001b[39m \u001b[43mg\u001b[49m\u001b[38;5;241m.\u001b[39mSE2_from_xytheta([\u001b[38;5;241m1\u001b[39m, \u001b[38;5;241m0\u001b[39m, pi \u001b[38;5;241m/\u001b[39m \u001b[38;5;241m2\u001b[39m])\n\u001b[1;32m     39\u001b[0m q1 \u001b[38;5;241m=\u001b[39m g\u001b[38;5;241m.\u001b[39mSE2_from_xytheta([\u001b[38;5;241m-\u001b[39m\u001b[38;5;241m1\u001b[39m, \u001b[38;5;241m1\u001b[39m, \u001b[38;5;241m3\u001b[39m \u001b[38;5;241m*\u001b[39m pi \u001b[38;5;241m/\u001b[39m \u001b[38;5;241m2\u001b[39m \u001b[38;5;241m-\u001b[39m \u001b[38;5;241m.0006\u001b[39m])\n\u001b[1;32m     41\u001b[0m alphas \u001b[38;5;241m=\u001b[39m np\u001b[38;5;241m.\u001b[39mlinspace(\u001b[38;5;241m0\u001b[39m, \u001b[38;5;241m1\u001b[39m, \u001b[38;5;241m10\u001b[39m)\n",
      "\u001b[0;31mNameError\u001b[0m: name 'g' is not defined"
     ]
    }
   ],
   "source": [
    "import numpy as np\n",
    "import matplotlib.pyplot as plt\n",
    "from math import cos, sin, pi\n",
    "\n",
    "# Assuming g.SE2_from_xytheta, g.xytheta_from_SE2, and other g functions exist and work as specified.\n",
    "\n",
    "def component_wise_interpolate(q0, q1, alpha):\n",
    "    xytheta0 = g.xytheta_from_SE2(q0)\n",
    "    xytheta1 = g.xytheta_from_SE2(q1)\n",
    "    \n",
    "    x0, y0, theta0 = xytheta0\n",
    "    x1, y1, theta1 = xytheta1\n",
    "    \n",
    "    # Linear interpolation of x and y\n",
    "    x = (1 - alpha) * x0 + alpha * x1\n",
    "    y = (1 - alpha) * y0 + alpha * y1\n",
    "    \n",
    "    # Interpolating the angle requires special care to handle the wrapping correctly.\n",
    "    # Assuming theta is between -pi and pi\n",
    "    # This interpolation ensures the shortest path on the circle\n",
    "    dtheta = np.mod((theta1 - theta0) + pi, 2 * pi) - pi\n",
    "    theta = theta0 + alpha * dtheta\n",
    "    \n",
    "    # Ensure theta stays within -pi to pi\n",
    "    theta = np.mod(theta + pi, 2 * pi) - pi\n",
    "    \n",
    "    return g.SE2_from_xytheta([x, y, theta])\n",
    "\n",
    "# Define arrow_from_SE2 as in the previous context\n",
    "def arrow_from_SE2(p, l=.1):\n",
    "    xytheta = g.xytheta_from_SE2(p)\n",
    "    x, y, theta = xytheta\n",
    "    dx = cos(theta) * l\n",
    "    dy = sin(theta) * l\n",
    "    return (x, y), (dx, dy)\n",
    "\n",
    "# Sample two poses\n",
    "q0 = g.SE2_from_xytheta([1, 0, pi / 2])\n",
    "q1 = g.SE2_from_xytheta([-1, 1, 3 * pi / 2 - .0006])\n",
    "\n",
    "alphas = np.linspace(0, 1, 10)\n",
    "ax = plt.axes()\n",
    "ax.set_aspect('equal')\n",
    "ax.set_title('SE(2) vs. Component-wise Interpolation')\n",
    "\n",
    "# Plot SE(2) interpolation\n",
    "for alpha in alphas:\n",
    "    q = interpolate(q0, q1, alpha)  # SE(2) interpolation as defined previously\n",
    "    xy, dxdy = arrow_from_SE2(q)\n",
    "    ax.arrow(*xy, *dxdy, head_width=0.03, head_length=0.03, fc='r', ec='r', label='SE(2) Interpolation' if alpha == 0 else \"\")\n",
    "\n",
    "# Plot component-wise interpolation\n",
    "for alpha in alphas:\n",
    "    q = component_wise_interpolate(q0, q1, alpha)\n",
    "    xy, dxdy = arrow_from_SE2(q)\n",
    "    ax.arrow(*xy, *dxdy, head_width=0.03, head_length=0.03, fc='b', ec='b', label='Component-wise Interpolation' if alpha == 0 else \"\")\n",
    "\n",
    "# Legend\n",
    "handles, labels = plt.gca().get_legend_handles_labels()\n",
    "by_label = dict(zip(labels, handles))\n",
    "plt.legend(by_label.values(), by_label.keys())\n",
    "\n",
    "plt.show()\n"
   ]
  },
  {
   "cell_type": "markdown",
   "metadata": {},
   "source": [
    "## Exercise 2\n",
    "\n",
    "We stand back to back.\n",
    "\n",
    "I walk 3 meters forward; I rotate 20 deg to my right; I walk 7 meters forward.\n",
    "\n",
    "You walk 2 meters forward, you rotate 30 deg to your left, you go 6 meters forward.\n",
    "\n",
    "What is the distance between us?\n",
    "\n",
    "At what angle I see you on my field of view? (0=front, pi/2 = left, -pi/2 = right, -pi=pi back) "
   ]
  },
  {
   "cell_type": "code",
   "execution_count": 17,
   "metadata": {
    "pycharm": {
     "is_executing": true
    }
   },
   "outputs": [
    {
     "data": {
      "text/plain": [
       "(17.619984646278937, -177.8266218074507)"
      ]
     },
     "execution_count": 17,
     "metadata": {},
     "output_type": "execute_result"
    }
   ],
   "source": [
    "import numpy as np\n",
    "\n",
    "# Define the initial position (back to back)\n",
    "initial_position_me = np.array([0, 0])\n",
    "initial_position_you = np.array([0, 0])\n",
    "\n",
    "# My movements\n",
    "# Walk 3 meters forward\n",
    "my_position_after_walk = initial_position_me + np.array([3, 0])\n",
    "# Rotate 20 degrees to the right (which is -20 degrees in the standard math convention)\n",
    "# and then walk 7 meters forward\n",
    "my_angle_after_rotation = np.deg2rad(-20)  # convert degrees to radians\n",
    "my_final_position = my_position_after_walk + np.array([7 * np.cos(my_angle_after_rotation), 7 * np.sin(my_angle_after_rotation)])\n",
    "\n",
    "# Your movements\n",
    "# Walk 2 meters forward\n",
    "your_position_after_walk = initial_position_you + np.array([-2, 0])  # Negative because we start back to back\n",
    "# Rotate 30 degrees to the left and then walk 6 meters forward\n",
    "your_angle_after_rotation = np.deg2rad(30)  # convert degrees to radians\n",
    "your_final_position = your_position_after_walk + np.array([-6 * np.cos(your_angle_after_rotation), 6 * np.sin(your_angle_after_rotation)])  # Negative x due to left turn\n",
    "\n",
    "# Calculate the distance between us\n",
    "distance_between_us = np.linalg.norm(my_final_position - your_final_position)\n",
    "\n",
    "# To find the angle at which I see you, we need to calculate the angle of the vector pointing from my position to yours.\n",
    "# This is relative to my final orientation, which is after rotating 20 degrees to the right.\n",
    "vector_from_me_to_you = your_final_position - my_final_position\n",
    "angle_of_vector = np.arctan2(vector_from_me_to_you[1], vector_from_me_to_you[0])  # This angle is in the world frame\n",
    "\n",
    "# Adjust this angle by subtracting my final orientation angle to get it in my field of view\n",
    "my_final_orientation = my_angle_after_rotation\n",
    "angle_in_my_field_of_view = angle_of_vector - my_final_orientation\n",
    "\n",
    "# Normalize the angle to be within -pi to pi\n",
    "angle_in_my_field_of_view = np.arctan2(np.sin(angle_in_my_field_of_view), np.cos(angle_in_my_field_of_view))\n",
    "\n",
    "distance_between_us, np.rad2deg(angle_in_my_field_of_view)  # Convert the angle to degrees for readability\n"
   ]
  }
 ],
 "metadata": {
  "celltoolbar": "Raw Cell Format",
  "kernelspec": {
   "display_name": "Python 3 (ipykernel)",
   "language": "python",
   "name": "python3"
  },
  "language_info": {
   "codemirror_mode": {
    "name": "ipython",
    "version": 3
   },
   "file_extension": ".py",
   "mimetype": "text/x-python",
   "name": "python",
   "nbconvert_exporter": "python",
   "pygments_lexer": "ipython3",
   "version": "3.11.5"
  }
 },
 "nbformat": 4,
 "nbformat_minor": 4
}
